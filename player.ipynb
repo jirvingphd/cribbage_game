{
 "cells": [
  {
   "cell_type": "code",
   "execution_count": 4,
   "metadata": {
    "scrolled": true
   },
   "outputs": [
    {
     "name": "stdout",
     "output_type": "stream",
     "text": [
      "<class 'tuple'>\n",
      "4\n",
      "<class '__main__.Card'>\n",
      "<class '__main__.Card'>\n",
      "<class '__main__.Card'>\n",
      "<class '__main__.Card'>\n"
     ]
    },
    {
     "ename": "TypeError",
     "evalue": "unhashable type: 'Card'",
     "output_type": "error",
     "traceback": [
      "\u001b[1;31m---------------------------------------------------------------------------\u001b[0m",
      "\u001b[1;31mTypeError\u001b[0m                                 Traceback (most recent call last)",
      "\u001b[1;32m<ipython-input-4-398372dcec7b>\u001b[0m in \u001b[0;36m<module>\u001b[1;34m\u001b[0m\n\u001b[0;32m     40\u001b[0m \u001b[0mplayer1\u001b[0m \u001b[1;33m=\u001b[0m \u001b[0mPlayer\u001b[0m\u001b[1;33m(\u001b[0m\u001b[1;33m)\u001b[0m\u001b[1;33m\u001b[0m\u001b[1;33m\u001b[0m\u001b[0m\n\u001b[0;32m     41\u001b[0m \u001b[0mplayer1\u001b[0m\u001b[1;33m.\u001b[0m\u001b[0minitial_hand\u001b[0m \u001b[1;33m=\u001b[0m \u001b[0mtest_hand\u001b[0m\u001b[1;33m\u001b[0m\u001b[1;33m\u001b[0m\u001b[0m\n\u001b[1;32m---> 42\u001b[1;33m \u001b[0mplayer1\u001b[0m\u001b[1;33m.\u001b[0m\u001b[0mcrib_discard\u001b[0m\u001b[1;33m(\u001b[0m\u001b[1;33m)\u001b[0m\u001b[1;33m\u001b[0m\u001b[1;33m\u001b[0m\u001b[0m\n\u001b[0m\u001b[0;32m     43\u001b[0m \u001b[1;33m\u001b[0m\u001b[0m\n\u001b[0;32m     44\u001b[0m \u001b[1;32mfor\u001b[0m \u001b[0mitem\u001b[0m \u001b[1;32min\u001b[0m \u001b[0mplayer1\u001b[0m\u001b[1;33m.\u001b[0m\u001b[0mplay_hand\u001b[0m\u001b[1;33m:\u001b[0m\u001b[1;33m\u001b[0m\u001b[1;33m\u001b[0m\u001b[0m\n",
      "\u001b[1;32m<ipython-input-4-398372dcec7b>\u001b[0m in \u001b[0;36mcrib_discard\u001b[1;34m(self)\u001b[0m\n\u001b[0;32m     29\u001b[0m             \u001b[1;32mfor\u001b[0m \u001b[0mitem\u001b[0m \u001b[1;32min\u001b[0m \u001b[0mquad\u001b[0m\u001b[1;33m:\u001b[0m\u001b[1;33m\u001b[0m\u001b[1;33m\u001b[0m\u001b[0m\n\u001b[0;32m     30\u001b[0m                 \u001b[0mprint\u001b[0m\u001b[1;33m(\u001b[0m\u001b[0mtype\u001b[0m\u001b[1;33m(\u001b[0m\u001b[0mitem\u001b[0m\u001b[1;33m)\u001b[0m\u001b[1;33m)\u001b[0m\u001b[1;33m\u001b[0m\u001b[1;33m\u001b[0m\u001b[0m\n\u001b[1;32m---> 31\u001b[1;33m             \u001b[0miter_dict\u001b[0m\u001b[1;33m[\u001b[0m\u001b[0mquad\u001b[0m\u001b[1;33m]\u001b[0m \u001b[1;33m=\u001b[0m \u001b[0mbase_score\u001b[0m \u001b[1;33m+\u001b[0m \u001b[0mflip_potential\u001b[0m\u001b[1;33m\u001b[0m\u001b[1;33m\u001b[0m\u001b[0m\n\u001b[0m\u001b[0;32m     32\u001b[0m             \u001b[0mprint\u001b[0m\u001b[1;33m(\u001b[0m\u001b[0mbase_score\u001b[0m\u001b[1;33m,\u001b[0m\u001b[0mflip_potential\u001b[0m\u001b[1;33m)\u001b[0m\u001b[1;33m\u001b[0m\u001b[1;33m\u001b[0m\u001b[0m\n\u001b[0;32m     33\u001b[0m         \u001b[0mhand_choice\u001b[0m \u001b[1;33m=\u001b[0m \u001b[0mmax\u001b[0m\u001b[1;33m(\u001b[0m\u001b[0miter_dict\u001b[0m\u001b[1;33m,\u001b[0m \u001b[0mkey\u001b[0m\u001b[1;33m=\u001b[0m\u001b[0miter_dict\u001b[0m\u001b[1;33m.\u001b[0m\u001b[0mget\u001b[0m\u001b[1;33m)\u001b[0m\u001b[1;33m\u001b[0m\u001b[1;33m\u001b[0m\u001b[0m\n",
      "\u001b[1;31mTypeError\u001b[0m: unhashable type: 'Card'"
     ]
    }
   ],
   "source": [
    "%run cards.ipynb\n",
    "%run scoring.ipynb\n",
    "import operator\n",
    "\n",
    "class Player():\n",
    "    def __init__(self):\n",
    "        self.initial_hand = []\n",
    "        self.play_hand = []\n",
    "\n",
    "        \n",
    "    def crib_discard(self):\n",
    "        iter_dict = {}\n",
    "        flip_cards = []\n",
    "        for i in range(1,14):\n",
    "            for j in range(1,5):\n",
    "                flip_cards.append(Card(i,j))\n",
    "        for item in self.initial_hand:\n",
    "            flip_cards.remove(item)\n",
    "        for quad in itertools.combinations(self.initial_hand,4):\n",
    "            base_score = score(list(quad))\n",
    "            flip_potential = 0\n",
    "            \n",
    "            for card in flip_cards:\n",
    "                potential_score = score(list(quad),card)\n",
    "                flip_potential += (potential_score - base_score)/46\n",
    "            # minus out crib potentials\n",
    "            iter_dict[quad] = base_score + flip_potential\n",
    "            print(base_score,flip_potential)\n",
    "        hand_choice = max(iter_dict, key=iter_dict.get)\n",
    "        self.play_hand = list(hand_choice)\n",
    "        pass\n",
    "        \n",
    "\n",
    "test_hand = [Card(2,1), Card(2,2), Card(3,1), Card(4,1), Card(3,2), Card(4,2)]\n",
    "\n",
    "player1 = Player()\n",
    "player1.initial_hand = test_hand\n",
    "player1.crib_discard()\n",
    "\n",
    "for item in player1.play_hand:\n",
    "    print(item)\n",
    "print(score(player1.play_hand))\n",
    "\n"
   ]
  },
  {
   "cell_type": "code",
   "execution_count": null,
   "metadata": {},
   "outputs": [],
   "source": []
  },
  {
   "cell_type": "code",
   "execution_count": null,
   "metadata": {},
   "outputs": [],
   "source": []
  }
 ],
 "metadata": {
  "kernelspec": {
   "display_name": "Python 3",
   "language": "python",
   "name": "python3"
  },
  "language_info": {
   "codemirror_mode": {
    "name": "ipython",
    "version": 3
   },
   "file_extension": ".py",
   "mimetype": "text/x-python",
   "name": "python",
   "nbconvert_exporter": "python",
   "pygments_lexer": "ipython3",
   "version": "3.7.3"
  }
 },
 "nbformat": 4,
 "nbformat_minor": 2
}

{
 "nbformat": 4,
 "nbformat_minor": 2,
 "metadata": {
  "language_info": {
   "name": "python",
   "codemirror_mode": {
    "name": "ipython",
    "version": 3
   },
   "version": "3.6.9"
  },
  "orig_nbformat": 2,
  "file_extension": ".py",
  "mimetype": "text/x-python",
  "name": "python",
  "npconvert_exporter": "python",
  "pygments_lexer": "ipython3",
  "version": 3
 },
 "cells": [
  {
   "cell_type": "code",
   "execution_count": 1,
   "metadata": {},
   "outputs": [
    {
     "name": "stdout",
     "output_type": "stream",
     "text": "Jack of Diamonds\nFive of Hearts\nNine of Diamonds\nSeven of Hearts\nJack of Hearts\nFour of Spades\n......\nJack of Diamonds\nFive of Hearts\nNine of Diamonds\nSeven of Hearts\n*******\n11\n4\n*******\nbase: 2 flip: 3.22 discard: 1.0\n......\n......\nJack of Diamonds\nFive of Hearts\nNine of Diamonds\nJack of Hearts\n*******\n7\n4\n*******\nbase: 6 flip: 3.43 discard: 1.0\n......\n......\nJack of Diamonds\nFive of Hearts\nNine of Diamonds\nFour of Spades\n*******\n7\n11\n*******\nbase: 2 flip: 3.39 discard: 0.7\n......\n......\nJack of Diamonds\nFive of Hearts\nSeven of Hearts\nJack of Hearts\n*******\n9\n4\n*******\nbase: 6 flip: 2.65 discard: 0.9\n......\n......\nJack of Diamonds\nFive of Hearts\nSeven of Hearts\nFour of Spades\n*******\n9\n11\n*******\nbase: 2 flip: 3.17 discard: 1.1\n......\n......\nJack of Diamonds\nFive of Hearts\nJack of Hearts\nFour of Spades\n*******\n9\n7\n*******\nbase: 6 flip: 3.09 discard: 1.2\n......\n......\nJack of Diamonds\nNine of Diamonds\nSeven of Hearts\nJack of Hearts\n*******\n5\n4\n*******\nbase: 2 flip: 3.09 discard: 3.6\n......\n......\nJack of Diamonds\nNine of Diamonds\nSeven of Hearts\nFour of Spades\n*******\n5\n11\n*******\nbase: 0 flip: 2.48 discard: 4.1\n......\n......\nJack of Diamonds\nNine of Diamonds\nJack of Hearts\nFour of Spades\n*******\n5\n7\n*******\nbase: 2 flip: 3.17 discard: 3.2\n......\n......\nJack of Diamonds\nSeven of Hearts\nJack of Hearts\nFour of Spades\n*******\n5\n9\n*******\nbase: 2 flip: 2.09 discard: 2.6\n......\n......\nFive of Hearts\nNine of Diamonds\nSeven of Hearts\nJack of Hearts\n*******\n11\n4\n*******\nbase: 2 flip: 3.17 discard: 1.0\n......\n......\nFive of Hearts\nNine of Diamonds\nSeven of Hearts\nFour of Spades\n*******\n11\n11\n*******\nbase: 0 flip: 3.43 discard: 2.5\n......\n......\nFive of Hearts\nNine of Diamonds\nJack of Hearts\nFour of Spades\n*******\n7\n11\n*******\nbase: 2 flip: 3.35 discard: 0.7\n......\n......\nFive of Hearts\nSeven of Hearts\nJack of Hearts\nFour of Spades\n*******\n9\n11\n*******\nbase: 2 flip: 3.13 discard: 1.1\n......\n......\nNine of Diamonds\nSeven of Hearts\nJack of Hearts\nFour of Spades\n*******\n5\n11\n*******\nbase: 0 flip: 2.46 discard: 4.1\n......\n--------\nJD-5H-9D-JH-\n"
    }
   ],
   "source": [
    "from card_hand_player import *"
   ]
  },
  {
   "cell_type": "code",
   "execution_count": null,
   "metadata": {},
   "outputs": [],
   "source": []
  }
 ]
}